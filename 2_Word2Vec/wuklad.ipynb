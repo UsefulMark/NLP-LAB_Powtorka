{
 "cells": [
  {
   "cell_type": "code",
   "execution_count": 3,
   "metadata": {},
   "outputs": [],
   "source": [
    "import numpy as np"
   ]
  },
  {
   "cell_type": "code",
   "execution_count": 4,
   "metadata": {},
   "outputs": [],
   "source": [
    "corpus = ['king is a strong man',\n",
    "          'queen is a wise woman',\n",
    "          'boy is a young man',\n",
    "          'girl is a young woman',\n",
    "          'prince is a young king',\n",
    "          'princess is a young queen',\n",
    "          'man is strong',\n",
    "          'woman is pretty',\n",
    "          'prince is a boy will be king',\n",
    "          'princess is a girl will be queen']\n",
    "#chcemy znaleźć zależności"
   ]
  },
  {
   "cell_type": "code",
   "execution_count": 5,
   "metadata": {},
   "outputs": [],
   "source": [
    "#zamiania słoów na wektory\n",
    "\n",
    "words=[]\n",
    "for text in corpus:\n",
    "    for w in text.split(' '):\n",
    "        w=w.lower()\n",
    "        words.append(w)\n",
    "        "
   ]
  },
  {
   "cell_type": "code",
   "execution_count": 6,
   "metadata": {},
   "outputs": [
    {
     "data": {
      "text/plain": [
       "16"
      ]
     },
     "execution_count": 6,
     "metadata": {},
     "output_type": "execute_result"
    }
   ],
   "source": [
    "words=set(words)\n",
    "len(words)\n",
    "#pomijamy sprawdzanie lcizności wyrazów usuwanie sstop words i słów <2 znaków"
   ]
  },
  {
   "cell_type": "code",
   "execution_count": 7,
   "metadata": {},
   "outputs": [],
   "source": [
    "#tworzymy słownik slow na indeksy\n",
    "word2ind={}\n",
    "for idw ,w in enumerate(list(words)):\n",
    "    word2ind[w]=idw\n",
    "    \n"
   ]
  },
  {
   "cell_type": "code",
   "execution_count": 8,
   "metadata": {},
   "outputs": [
    {
     "data": {
      "text/plain": [
       "[['king', 'is', 'a', 'strong', 'man'],\n",
       " ['queen', 'is', 'a', 'wise', 'woman'],\n",
       " ['boy', 'is', 'a', 'young', 'man'],\n",
       " ['girl', 'is', 'a', 'young', 'woman'],\n",
       " ['prince', 'is', 'a', 'young', 'king'],\n",
       " ['princess', 'is', 'a', 'young', 'queen'],\n",
       " ['man', 'is', 'strong'],\n",
       " ['woman', 'is', 'pretty'],\n",
       " ['prince', 'is', 'a', 'boy', 'will', 'be', 'king'],\n",
       " ['princess', 'is', 'a', 'girl', 'will', 'be', 'queen']]"
      ]
     },
     "execution_count": 8,
     "metadata": {},
     "output_type": "execute_result"
    }
   ],
   "source": [
    "#chcemy utworzyć zdania- korpus ejst lista zdan a teraz każde zdanie zamineiami na lsite słów\n",
    "lista_slow_w_zdaniu=[]\n",
    "for zdanie in corpus:\n",
    "    lista_slow_w_zdaniu.append(zdanie.split(' '))\n",
    "\n",
    "lista_slow_w_zdaniu"
   ]
  },
  {
   "cell_type": "code",
   "execution_count": 9,
   "metadata": {},
   "outputs": [],
   "source": [
    "# #ale analize nie zawsze trzeba zaczynac od recznego tworzeia są autoamtyczne metody teraz skupimy się na sklearn.feature_extraction.text.CountVectorizer\n",
    "# from sklearn.feature_extraction.text import CountVectorizer\n",
    "# tokenizer = CountVectorizer() #tworzymy tokenizer zawsze będzie zwracała sparse matrix\n",
    "# tokeny=tokenizer.fit_transform(corpus) #fitujemy na korpusie zwraca tokeny wszystkich słów zdań\n",
    "# #tokeny[0] #pierwsze zdanie ale nadal jest to sparxe matrix\n",
    "# #konwersja macierzy\n",
    "# tokeny.toarray() #to nie do końca jest tak jak na przykład w BOW bo tu mamy zliczanie słów aby to pokazać odwołąmy się do danych z BOW\n"
   ]
  },
  {
   "cell_type": "code",
   "execution_count": 8,
   "metadata": {},
   "outputs": [],
   "source": [
    "# #aby to pokazać odwołamy się do danych z BOW\n",
    "# path = r\"../BugOfWord/data/review_polarity/txt_sentoken/neg/cv000_29416.txt\"\n",
    "# with open(path, 'r') as f:\n",
    "#     recenzja = f.read()\n",
    "#     f.close()\n",
    "\n",
    "# #przygotujme recenzje do korpusu i dzilymy na zdania\n",
    "# recenzja=recenzja.split('\\n')\n",
    "\n",
    "\n",
    "\n"
   ]
  },
  {
   "cell_type": "code",
   "execution_count": 9,
   "metadata": {},
   "outputs": [],
   "source": [
    "# tokenizer = CountVectorizer(binary=True) \n",
    "# tokeny=tokenizer.fit_transform(recenzja) \n",
    "# #tokeny.toarray()[5] #maceirz nie zawsz jest z samych 0 i 1 i czasme ciezko jet to do zauwazeniatokenizer = CountVectorizer() \n",
    "# tokeny=tokenizer.fit_transform(recenzja) \n",
    "# #tokeny.toarray()[5] #maceirz nie zawsz jest z samych 0 i 1 i czasme ciezko jet to do zauwazenia"
   ]
  },
  {
   "cell_type": "code",
   "execution_count": 10,
   "metadata": {},
   "outputs": [],
   "source": [
    "# for i in range (tokeny.shape[0]):\n",
    "#     if len(np.unique(tokeny.toarray()[i]))>2:\n",
    "#         print(i)\n",
    "#         break\n",
    "# tokeny.toarray()[6]\n",
    "# #recenzja[6] #to break , one te sllowa wystęuja wiele razy w recenzji\n",
    "\n",
    "# #5 to był pierwszy elemnt który miał wartość inną niż 1 \n",
    "# #ważne jest to aby o tym pamietać jest taka funkcja binary w CountVectorizer która zamienia wszystkie wartości na 1\n",
    "# #tokenizer = CountVectorizer(binary=True) to daje gwarancje że nie będzie innych wartości niż 0 i 1\n"
   ]
  },
  {
   "cell_type": "code",
   "execution_count": 11,
   "metadata": {},
   "outputs": [],
   "source": [
    "# tokenizer.vocabulary_ #słownik słów razem ze swoimi indekasi tak jak to robiliśy wcześniej"
   ]
  },
  {
   "cell_type": "code",
   "execution_count": 12,
   "metadata": {},
   "outputs": [],
   "source": [
    "# #można to łatwiej zidentyfikować\n",
    "# slwonik=tokenizer.vocabulary_ #słownik słów razem ze swoimi indekasi tak jak to robiliśy wcześniej\n",
    "# slowo15= np.zeros(len(slwonik))\n",
    "# slowo15[15]=1\n",
    "# slowo15= np.reshape(slowo15,(1,-1))\n",
    "# tokenizer.inverse_transform(slowo15) #odzyskujemy słowo z indeksu\n",
    "# #czyli słowo and występowało kilka razy dokąłdnie 3 i przy binary false zwracało nam 2 \n",
    "# #jest wiele innych tokenizerów i da się ten proces zautomatyzować"
   ]
  },
  {
   "cell_type": "code",
   "execution_count": 13,
   "metadata": {},
   "outputs": [],
   "source": [
    "# #możemy poszaleć i od razu wykonać TIFD\n",
    "# from sklearn.feature_extraction.text import TfidfVectorizer\n",
    "\n",
    "# tokenizer = TfidfVectorizer() \n",
    "# tokeny=tokenizer.fit_transform(recenzja) \n",
    "# tokeny.toarray()[6] #wartości jest jużwięcej słowo 15 miało przewagę trzykrotną a teraz nawet nie jest największe 0.2\n"
   ]
  },
  {
   "cell_type": "code",
   "execution_count": 10,
   "metadata": {},
   "outputs": [
    {
     "data": {
      "text/plain": [
       "[['king', 'is', 'a', 'strong', 'man'],\n",
       " ['queen', 'is', 'a', 'wise', 'woman'],\n",
       " ['boy', 'is', 'a', 'young', 'man'],\n",
       " ['girl', 'is', 'a', 'young', 'woman'],\n",
       " ['prince', 'is', 'a', 'young', 'king'],\n",
       " ['princess', 'is', 'a', 'young', 'queen'],\n",
       " ['man', 'is', 'strong'],\n",
       " ['woman', 'is', 'pretty'],\n",
       " ['prince', 'is', 'a', 'boy', 'will', 'be', 'king'],\n",
       " ['princess', 'is', 'a', 'girl', 'will', 'be', 'queen']]"
      ]
     },
     "execution_count": 10,
     "metadata": {},
     "output_type": "execute_result"
    }
   ],
   "source": [
    "lista_slow_w_zdaniu"
   ]
  },
  {
   "cell_type": "code",
   "execution_count": 15,
   "metadata": {},
   "outputs": [],
   "source": [
    "# #word2vec skigram pary słowo i otocznie słowa czyli king is a to po pierwsze ustalamy otoczeni bierzemy 2 king is king a ... i tak dalej\n",
    "# #dla jednego zdania\n",
    "# dane=[]\n",
    "# rozmiar_okna =2\n",
    "# zdanie=lista_slow_w_zdaniu[0]\n",
    "# zdanie\n",
    "\n",
    "# for ids,slowo in enumerate(zdanie):\n",
    "#     for i in range(max(ids - rozmiar_okna,0),min(ids + rozmiar_okna,len(zdanie)-1)+1):\n",
    "#         if slowo != zdanie[i]:\n",
    "#             dane.append([slowo,zdanie[i]])\n",
    "# dane"
   ]
  },
  {
   "cell_type": "code",
   "execution_count": 11,
   "metadata": {},
   "outputs": [
    {
     "data": {
      "text/plain": [
       "[['king', 'is'],\n",
       " ['king', 'a'],\n",
       " ['is', 'king'],\n",
       " ['is', 'a'],\n",
       " ['is', 'strong'],\n",
       " ['a', 'king'],\n",
       " ['a', 'is'],\n",
       " ['a', 'strong'],\n",
       " ['a', 'man'],\n",
       " ['strong', 'is'],\n",
       " ['strong', 'a'],\n",
       " ['strong', 'man'],\n",
       " ['man', 'a'],\n",
       " ['man', 'strong'],\n",
       " ['queen', 'is'],\n",
       " ['queen', 'a'],\n",
       " ['is', 'queen'],\n",
       " ['is', 'a'],\n",
       " ['is', 'wise'],\n",
       " ['a', 'queen'],\n",
       " ['a', 'is'],\n",
       " ['a', 'wise'],\n",
       " ['a', 'woman'],\n",
       " ['wise', 'is'],\n",
       " ['wise', 'a'],\n",
       " ['wise', 'woman'],\n",
       " ['woman', 'a'],\n",
       " ['woman', 'wise'],\n",
       " ['boy', 'is'],\n",
       " ['boy', 'a'],\n",
       " ['is', 'boy'],\n",
       " ['is', 'a'],\n",
       " ['is', 'young'],\n",
       " ['a', 'boy'],\n",
       " ['a', 'is'],\n",
       " ['a', 'young'],\n",
       " ['a', 'man'],\n",
       " ['young', 'is'],\n",
       " ['young', 'a'],\n",
       " ['young', 'man'],\n",
       " ['man', 'a'],\n",
       " ['man', 'young'],\n",
       " ['girl', 'is'],\n",
       " ['girl', 'a'],\n",
       " ['is', 'girl'],\n",
       " ['is', 'a'],\n",
       " ['is', 'young'],\n",
       " ['a', 'girl'],\n",
       " ['a', 'is'],\n",
       " ['a', 'young'],\n",
       " ['a', 'woman'],\n",
       " ['young', 'is'],\n",
       " ['young', 'a'],\n",
       " ['young', 'woman'],\n",
       " ['woman', 'a'],\n",
       " ['woman', 'young'],\n",
       " ['prince', 'is'],\n",
       " ['prince', 'a'],\n",
       " ['is', 'prince'],\n",
       " ['is', 'a'],\n",
       " ['is', 'young'],\n",
       " ['a', 'prince'],\n",
       " ['a', 'is'],\n",
       " ['a', 'young'],\n",
       " ['a', 'king'],\n",
       " ['young', 'is'],\n",
       " ['young', 'a'],\n",
       " ['young', 'king'],\n",
       " ['king', 'a'],\n",
       " ['king', 'young'],\n",
       " ['princess', 'is'],\n",
       " ['princess', 'a'],\n",
       " ['is', 'princess'],\n",
       " ['is', 'a'],\n",
       " ['is', 'young'],\n",
       " ['a', 'princess'],\n",
       " ['a', 'is'],\n",
       " ['a', 'young'],\n",
       " ['a', 'queen'],\n",
       " ['young', 'is'],\n",
       " ['young', 'a'],\n",
       " ['young', 'queen'],\n",
       " ['queen', 'a'],\n",
       " ['queen', 'young'],\n",
       " ['man', 'is'],\n",
       " ['man', 'strong'],\n",
       " ['is', 'man'],\n",
       " ['is', 'strong'],\n",
       " ['strong', 'man'],\n",
       " ['strong', 'is'],\n",
       " ['woman', 'is'],\n",
       " ['woman', 'pretty'],\n",
       " ['is', 'woman'],\n",
       " ['is', 'pretty'],\n",
       " ['pretty', 'woman'],\n",
       " ['pretty', 'is'],\n",
       " ['prince', 'is'],\n",
       " ['prince', 'a'],\n",
       " ['is', 'prince'],\n",
       " ['is', 'a'],\n",
       " ['is', 'boy'],\n",
       " ['a', 'prince'],\n",
       " ['a', 'is'],\n",
       " ['a', 'boy'],\n",
       " ['a', 'will'],\n",
       " ['boy', 'is'],\n",
       " ['boy', 'a'],\n",
       " ['boy', 'will'],\n",
       " ['boy', 'be'],\n",
       " ['will', 'a'],\n",
       " ['will', 'boy'],\n",
       " ['will', 'be'],\n",
       " ['will', 'king'],\n",
       " ['be', 'boy'],\n",
       " ['be', 'will'],\n",
       " ['be', 'king'],\n",
       " ['king', 'will'],\n",
       " ['king', 'be'],\n",
       " ['princess', 'is'],\n",
       " ['princess', 'a'],\n",
       " ['is', 'princess'],\n",
       " ['is', 'a'],\n",
       " ['is', 'girl'],\n",
       " ['a', 'princess'],\n",
       " ['a', 'is'],\n",
       " ['a', 'girl'],\n",
       " ['a', 'will'],\n",
       " ['girl', 'is'],\n",
       " ['girl', 'a'],\n",
       " ['girl', 'will'],\n",
       " ['girl', 'be'],\n",
       " ['will', 'a'],\n",
       " ['will', 'girl'],\n",
       " ['will', 'be'],\n",
       " ['will', 'queen'],\n",
       " ['be', 'girl'],\n",
       " ['be', 'will'],\n",
       " ['be', 'queen'],\n",
       " ['queen', 'will'],\n",
       " ['queen', 'be']]"
      ]
     },
     "execution_count": 11,
     "metadata": {},
     "output_type": "execute_result"
    }
   ],
   "source": [
    "dane=[]\n",
    "rozmiar_okna =2\n",
    "for zdanie in lista_slow_w_zdaniu:\n",
    "    for ids,slowo in enumerate(zdanie):\n",
    "        for i in range(max(ids - rozmiar_okna,0),min(ids + rozmiar_okna,len(zdanie)-1)+1):\n",
    "            if slowo != zdanie[i]:\n",
    "                dane.append([slowo,zdanie[i]])\n",
    "dane"
   ]
  },
  {
   "cell_type": "code",
   "execution_count": 12,
   "metadata": {},
   "outputs": [
    {
     "data": {
      "text/plain": [
       "140"
      ]
     },
     "execution_count": 12,
     "metadata": {},
     "output_type": "execute_result"
    }
   ],
   "source": [
    "len(dane) #zbior uczący ma 140 elementów"
   ]
  },
  {
   "cell_type": "code",
   "execution_count": 18,
   "metadata": {},
   "outputs": [
    {
     "data": {
      "text/plain": [
       "array([0., 0., 0., 0., 0., 0., 0., 0., 0., 0., 0., 0., 0., 0., 0., 1.])"
      ]
     },
     "execution_count": 18,
     "metadata": {},
     "output_type": "execute_result"
    }
   ],
   "source": [
    "#utowrzenei X i Y\n",
    "\n",
    "X= np.zeros((len(dane),len(words))) #rozmiar tyle elemntów ile ejst par ale kzady elemtno to wekrto 0 1 i ich będie tyle ile słów\n",
    "Y= np.zeros((len(dane),len(words))) #to samo co wyżej ale dla słów otoczenia\n",
    "\n",
    "for idx,(x,y) in enumerate(dane):\n",
    "    X[idx][word2ind[x]]=1\n",
    "    Y[idx][word2ind[y]]=1\n",
    "    \n",
    "Y[0]\n"
   ]
  },
  {
   "cell_type": "code",
   "execution_count": 19,
   "metadata": {},
   "outputs": [],
   "source": [
    "#budowa modelu\n",
    "from tensorflow.keras import Model\n",
    "from tensorflow.keras.layers import Dense, Input\n"
   ]
  },
  {
   "cell_type": "code",
   "execution_count": 20,
   "metadata": {},
   "outputs": [],
   "source": [
    "x = Input(shape=(X.shape[1],))  # czyli długość słownika słów\n",
    "h = Dense(2, activation='linear')(x)  # warstwa ukryta 2 neurony ale zazwyczaj to 100/200/300\n",
    "out = Dense(X.shape[1], activation='sigmoid')(h)  # wyjście tyle ile słów\n",
    "\n",
    "model = Model(x, out)\n",
    "model.compile(optimizer='adam', loss='categorical_crossentropy', metrics=['accuracy'])"
   ]
  },
  {
   "cell_type": "code",
   "execution_count": 21,
   "metadata": {},
   "outputs": [
    {
     "name": "stdout",
     "output_type": "stream",
     "text": [
      "Epoch 1/100\n",
      "\u001b[1m5/5\u001b[0m \u001b[32m━━━━━━━━━━━━━━━━━━━━\u001b[0m\u001b[37m\u001b[0m \u001b[1m1s\u001b[0m 5ms/step - accuracy: 0.0395 - loss: 2.7594\n",
      "Epoch 2/100\n",
      "\u001b[1m5/5\u001b[0m \u001b[32m━━━━━━━━━━━━━━━━━━━━\u001b[0m\u001b[37m\u001b[0m \u001b[1m0s\u001b[0m 3ms/step - accuracy: 0.0603 - loss: 2.7462 \n",
      "Epoch 3/100\n",
      "\u001b[1m5/5\u001b[0m \u001b[32m━━━━━━━━━━━━━━━━━━━━\u001b[0m\u001b[37m\u001b[0m \u001b[1m0s\u001b[0m 3ms/step - accuracy: 0.0674 - loss: 2.7471 \n",
      "Epoch 4/100\n",
      "\u001b[1m5/5\u001b[0m \u001b[32m━━━━━━━━━━━━━━━━━━━━\u001b[0m\u001b[37m\u001b[0m \u001b[1m0s\u001b[0m 3ms/step - accuracy: 0.0431 - loss: 2.7491 \n",
      "Epoch 5/100\n",
      "\u001b[1m5/5\u001b[0m \u001b[32m━━━━━━━━━━━━━━━━━━━━\u001b[0m\u001b[37m\u001b[0m \u001b[1m0s\u001b[0m 3ms/step - accuracy: 0.0388 - loss: 2.7382 \n",
      "Epoch 6/100\n",
      "\u001b[1m5/5\u001b[0m \u001b[32m━━━━━━━━━━━━━━━━━━━━\u001b[0m\u001b[37m\u001b[0m \u001b[1m0s\u001b[0m 3ms/step - accuracy: 0.0492 - loss: 2.7349 \n",
      "Epoch 7/100\n",
      "\u001b[1m5/5\u001b[0m \u001b[32m━━━━━━━━━━━━━━━━━━━━\u001b[0m\u001b[37m\u001b[0m \u001b[1m0s\u001b[0m 3ms/step - accuracy: 0.0579 - loss: 2.7285 \n",
      "Epoch 8/100\n",
      "\u001b[1m5/5\u001b[0m \u001b[32m━━━━━━━━━━━━━━━━━━━━\u001b[0m\u001b[37m\u001b[0m \u001b[1m0s\u001b[0m 3ms/step - accuracy: 0.1097 - loss: 2.7311 \n",
      "Epoch 9/100\n",
      "\u001b[1m5/5\u001b[0m \u001b[32m━━━━━━━━━━━━━━━━━━━━\u001b[0m\u001b[37m\u001b[0m \u001b[1m0s\u001b[0m 3ms/step - accuracy: 0.0999 - loss: 2.7263 \n",
      "Epoch 10/100\n",
      "\u001b[1m5/5\u001b[0m \u001b[32m━━━━━━━━━━━━━━━━━━━━\u001b[0m\u001b[37m\u001b[0m \u001b[1m0s\u001b[0m 3ms/step - accuracy: 0.1201 - loss: 2.7283 \n",
      "Epoch 11/100\n",
      "\u001b[1m5/5\u001b[0m \u001b[32m━━━━━━━━━━━━━━━━━━━━\u001b[0m\u001b[37m\u001b[0m \u001b[1m0s\u001b[0m 4ms/step - accuracy: 0.1201 - loss: 2.7230 \n",
      "Epoch 12/100\n",
      "\u001b[1m5/5\u001b[0m \u001b[32m━━━━━━━━━━━━━━━━━━━━\u001b[0m\u001b[37m\u001b[0m \u001b[1m0s\u001b[0m 3ms/step - accuracy: 0.1216 - loss: 2.7202 \n",
      "Epoch 13/100\n",
      "\u001b[1m5/5\u001b[0m \u001b[32m━━━━━━━━━━━━━━━━━━━━\u001b[0m\u001b[37m\u001b[0m \u001b[1m0s\u001b[0m 3ms/step - accuracy: 0.1566 - loss: 2.7197 \n",
      "Epoch 14/100\n",
      "\u001b[1m5/5\u001b[0m \u001b[32m━━━━━━━━━━━━━━━━━━━━\u001b[0m\u001b[37m\u001b[0m \u001b[1m0s\u001b[0m 3ms/step - accuracy: 0.1431 - loss: 2.7071 \n",
      "Epoch 15/100\n",
      "\u001b[1m5/5\u001b[0m \u001b[32m━━━━━━━━━━━━━━━━━━━━\u001b[0m\u001b[37m\u001b[0m \u001b[1m0s\u001b[0m 3ms/step - accuracy: 0.1626 - loss: 2.7111 \n",
      "Epoch 16/100\n",
      "\u001b[1m5/5\u001b[0m \u001b[32m━━━━━━━━━━━━━━━━━━━━\u001b[0m\u001b[37m\u001b[0m \u001b[1m0s\u001b[0m 4ms/step - accuracy: 0.1362 - loss: 2.7010 \n",
      "Epoch 17/100\n",
      "\u001b[1m5/5\u001b[0m \u001b[32m━━━━━━━━━━━━━━━━━━━━\u001b[0m\u001b[37m\u001b[0m \u001b[1m0s\u001b[0m 3ms/step - accuracy: 0.1474 - loss: 2.6944 \n",
      "Epoch 18/100\n",
      "\u001b[1m5/5\u001b[0m \u001b[32m━━━━━━━━━━━━━━━━━━━━\u001b[0m\u001b[37m\u001b[0m \u001b[1m0s\u001b[0m 3ms/step - accuracy: 0.1418 - loss: 2.7013 \n",
      "Epoch 19/100\n",
      "\u001b[1m5/5\u001b[0m \u001b[32m━━━━━━━━━━━━━━━━━━━━\u001b[0m\u001b[37m\u001b[0m \u001b[1m0s\u001b[0m 3ms/step - accuracy: 0.1708 - loss: 2.7019 \n",
      "Epoch 20/100\n",
      "\u001b[1m5/5\u001b[0m \u001b[32m━━━━━━━━━━━━━━━━━━━━\u001b[0m\u001b[37m\u001b[0m \u001b[1m0s\u001b[0m 3ms/step - accuracy: 0.1771 - loss: 2.7000 \n",
      "Epoch 21/100\n",
      "\u001b[1m5/5\u001b[0m \u001b[32m━━━━━━━━━━━━━━━━━━━━\u001b[0m\u001b[37m\u001b[0m \u001b[1m0s\u001b[0m 3ms/step - accuracy: 0.2257 - loss: 2.6760 \n",
      "Epoch 22/100\n",
      "\u001b[1m5/5\u001b[0m \u001b[32m━━━━━━━━━━━━━━━━━━━━\u001b[0m\u001b[37m\u001b[0m \u001b[1m0s\u001b[0m 3ms/step - accuracy: 0.2140 - loss: 2.6775 \n",
      "Epoch 23/100\n",
      "\u001b[1m5/5\u001b[0m \u001b[32m━━━━━━━━━━━━━━━━━━━━\u001b[0m\u001b[37m\u001b[0m \u001b[1m0s\u001b[0m 3ms/step - accuracy: 0.2209 - loss: 2.6822 \n",
      "Epoch 24/100\n",
      "\u001b[1m5/5\u001b[0m \u001b[32m━━━━━━━━━━━━━━━━━━━━\u001b[0m\u001b[37m\u001b[0m \u001b[1m0s\u001b[0m 3ms/step - accuracy: 0.2552 - loss: 2.6679 \n",
      "Epoch 25/100\n",
      "\u001b[1m5/5\u001b[0m \u001b[32m━━━━━━━━━━━━━━━━━━━━\u001b[0m\u001b[37m\u001b[0m \u001b[1m0s\u001b[0m 3ms/step - accuracy: 0.1966 - loss: 2.6688 \n",
      "Epoch 26/100\n",
      "\u001b[1m5/5\u001b[0m \u001b[32m━━━━━━━━━━━━━━━━━━━━\u001b[0m\u001b[37m\u001b[0m \u001b[1m0s\u001b[0m 3ms/step - accuracy: 0.2136 - loss: 2.6713 \n",
      "Epoch 27/100\n",
      "\u001b[1m5/5\u001b[0m \u001b[32m━━━━━━━━━━━━━━━━━━━━\u001b[0m\u001b[37m\u001b[0m \u001b[1m0s\u001b[0m 3ms/step - accuracy: 0.2079 - loss: 2.6708 \n",
      "Epoch 28/100\n",
      "\u001b[1m5/5\u001b[0m \u001b[32m━━━━━━━━━━━━━━━━━━━━\u001b[0m\u001b[37m\u001b[0m \u001b[1m0s\u001b[0m 3ms/step - accuracy: 0.2231 - loss: 2.6562 \n",
      "Epoch 29/100\n",
      "\u001b[1m5/5\u001b[0m \u001b[32m━━━━━━━━━━━━━━━━━━━━\u001b[0m\u001b[37m\u001b[0m \u001b[1m0s\u001b[0m 3ms/step - accuracy: 0.2567 - loss: 2.6441 \n",
      "Epoch 30/100\n",
      "\u001b[1m5/5\u001b[0m \u001b[32m━━━━━━━━━━━━━━━━━━━━\u001b[0m\u001b[37m\u001b[0m \u001b[1m0s\u001b[0m 3ms/step - accuracy: 0.2609 - loss: 2.6462 \n",
      "Epoch 31/100\n",
      "\u001b[1m5/5\u001b[0m \u001b[32m━━━━━━━━━━━━━━━━━━━━\u001b[0m\u001b[37m\u001b[0m \u001b[1m0s\u001b[0m 4ms/step - accuracy: 0.2470 - loss: 2.6382 \n",
      "Epoch 32/100\n",
      "\u001b[1m5/5\u001b[0m \u001b[32m━━━━━━━━━━━━━━━━━━━━\u001b[0m\u001b[37m\u001b[0m \u001b[1m0s\u001b[0m 3ms/step - accuracy: 0.2435 - loss: 2.6420 \n",
      "Epoch 33/100\n",
      "\u001b[1m5/5\u001b[0m \u001b[32m━━━━━━━━━━━━━━━━━━━━\u001b[0m\u001b[37m\u001b[0m \u001b[1m0s\u001b[0m 3ms/step - accuracy: 0.2418 - loss: 2.6476 \n",
      "Epoch 34/100\n",
      "\u001b[1m5/5\u001b[0m \u001b[32m━━━━━━━━━━━━━━━━━━━━\u001b[0m\u001b[37m\u001b[0m \u001b[1m0s\u001b[0m 3ms/step - accuracy: 0.2821 - loss: 2.6381 \n",
      "Epoch 35/100\n",
      "\u001b[1m5/5\u001b[0m \u001b[32m━━━━━━━━━━━━━━━━━━━━\u001b[0m\u001b[37m\u001b[0m \u001b[1m0s\u001b[0m 3ms/step - accuracy: 0.2830 - loss: 2.6168 \n",
      "Epoch 36/100\n",
      "\u001b[1m5/5\u001b[0m \u001b[32m━━━━━━━━━━━━━━━━━━━━\u001b[0m\u001b[37m\u001b[0m \u001b[1m0s\u001b[0m 2ms/step - accuracy: 0.2227 - loss: 2.6346 \n",
      "Epoch 37/100\n",
      "\u001b[1m5/5\u001b[0m \u001b[32m━━━━━━━━━━━━━━━━━━━━\u001b[0m\u001b[37m\u001b[0m \u001b[1m0s\u001b[0m 3ms/step - accuracy: 0.2539 - loss: 2.6216 \n",
      "Epoch 38/100\n",
      "\u001b[1m5/5\u001b[0m \u001b[32m━━━━━━━━━━━━━━━━━━━━\u001b[0m\u001b[37m\u001b[0m \u001b[1m0s\u001b[0m 3ms/step - accuracy: 0.2405 - loss: 2.6371 \n",
      "Epoch 39/100\n",
      "\u001b[1m5/5\u001b[0m \u001b[32m━━━━━━━━━━━━━━━━━━━━\u001b[0m\u001b[37m\u001b[0m \u001b[1m0s\u001b[0m 3ms/step - accuracy: 0.2474 - loss: 2.6067 \n",
      "Epoch 40/100\n",
      "\u001b[1m5/5\u001b[0m \u001b[32m━━━━━━━━━━━━━━━━━━━━\u001b[0m\u001b[37m\u001b[0m \u001b[1m0s\u001b[0m 3ms/step - accuracy: 0.2405 - loss: 2.6278 \n",
      "Epoch 41/100\n",
      "\u001b[1m5/5\u001b[0m \u001b[32m━━━━━━━━━━━━━━━━━━━━\u001b[0m\u001b[37m\u001b[0m \u001b[1m0s\u001b[0m 3ms/step - accuracy: 0.2018 - loss: 2.6120 \n",
      "Epoch 42/100\n",
      "\u001b[1m5/5\u001b[0m \u001b[32m━━━━━━━━━━━━━━━━━━━━\u001b[0m\u001b[37m\u001b[0m \u001b[1m0s\u001b[0m 3ms/step - accuracy: 0.2400 - loss: 2.6020 \n",
      "Epoch 43/100\n",
      "\u001b[1m5/5\u001b[0m \u001b[32m━━━━━━━━━━━━━━━━━━━━\u001b[0m\u001b[37m\u001b[0m \u001b[1m0s\u001b[0m 3ms/step - accuracy: 0.2352 - loss: 2.6002 \n",
      "Epoch 44/100\n",
      "\u001b[1m5/5\u001b[0m \u001b[32m━━━━━━━━━━━━━━━━━━━━\u001b[0m\u001b[37m\u001b[0m \u001b[1m0s\u001b[0m 3ms/step - accuracy: 0.2506 - loss: 2.6013 \n",
      "Epoch 45/100\n",
      "\u001b[1m5/5\u001b[0m \u001b[32m━━━━━━━━━━━━━━━━━━━━\u001b[0m\u001b[37m\u001b[0m \u001b[1m0s\u001b[0m 3ms/step - accuracy: 0.2728 - loss: 2.5851 \n",
      "Epoch 46/100\n",
      "\u001b[1m5/5\u001b[0m \u001b[32m━━━━━━━━━━━━━━━━━━━━\u001b[0m\u001b[37m\u001b[0m \u001b[1m0s\u001b[0m 3ms/step - accuracy: 0.2906 - loss: 2.5854 \n",
      "Epoch 47/100\n",
      "\u001b[1m5/5\u001b[0m \u001b[32m━━━━━━━━━━━━━━━━━━━━\u001b[0m\u001b[37m\u001b[0m \u001b[1m0s\u001b[0m 3ms/step - accuracy: 0.2524 - loss: 2.5900 \n",
      "Epoch 48/100\n",
      "\u001b[1m5/5\u001b[0m \u001b[32m━━━━━━━━━━━━━━━━━━━━\u001b[0m\u001b[37m\u001b[0m \u001b[1m0s\u001b[0m 3ms/step - accuracy: 0.2680 - loss: 2.5885 \n",
      "Epoch 49/100\n",
      "\u001b[1m5/5\u001b[0m \u001b[32m━━━━━━━━━━━━━━━━━━━━\u001b[0m\u001b[37m\u001b[0m \u001b[1m0s\u001b[0m 3ms/step - accuracy: 0.2784 - loss: 2.5755 \n",
      "Epoch 50/100\n",
      "\u001b[1m5/5\u001b[0m \u001b[32m━━━━━━━━━━━━━━━━━━━━\u001b[0m\u001b[37m\u001b[0m \u001b[1m0s\u001b[0m 3ms/step - accuracy: 0.2743 - loss: 2.5633 \n",
      "Epoch 51/100\n",
      "\u001b[1m5/5\u001b[0m \u001b[32m━━━━━━━━━━━━━━━━━━━━\u001b[0m\u001b[37m\u001b[0m \u001b[1m0s\u001b[0m 2ms/step - accuracy: 0.3064 - loss: 2.5651 \n",
      "Epoch 52/100\n",
      "\u001b[1m5/5\u001b[0m \u001b[32m━━━━━━━━━━━━━━━━━━━━\u001b[0m\u001b[37m\u001b[0m \u001b[1m0s\u001b[0m 3ms/step - accuracy: 0.2765 - loss: 2.5663 \n",
      "Epoch 53/100\n",
      "\u001b[1m5/5\u001b[0m \u001b[32m━━━━━━━━━━━━━━━━━━━━\u001b[0m\u001b[37m\u001b[0m \u001b[1m0s\u001b[0m 3ms/step - accuracy: 0.2843 - loss: 2.5676 \n",
      "Epoch 54/100\n",
      "\u001b[1m5/5\u001b[0m \u001b[32m━━━━━━━━━━━━━━━━━━━━\u001b[0m\u001b[37m\u001b[0m \u001b[1m0s\u001b[0m 3ms/step - accuracy: 0.2708 - loss: 2.5583 \n",
      "Epoch 55/100\n",
      "\u001b[1m5/5\u001b[0m \u001b[32m━━━━━━━━━━━━━━━━━━━━\u001b[0m\u001b[37m\u001b[0m \u001b[1m0s\u001b[0m 3ms/step - accuracy: 0.3107 - loss: 2.5411 \n",
      "Epoch 56/100\n",
      "\u001b[1m5/5\u001b[0m \u001b[32m━━━━━━━━━━━━━━━━━━━━\u001b[0m\u001b[37m\u001b[0m \u001b[1m0s\u001b[0m 3ms/step - accuracy: 0.2804 - loss: 2.5438 \n",
      "Epoch 57/100\n",
      "\u001b[1m5/5\u001b[0m \u001b[32m━━━━━━━━━━━━━━━━━━━━\u001b[0m\u001b[37m\u001b[0m \u001b[1m0s\u001b[0m 3ms/step - accuracy: 0.2856 - loss: 2.5596 \n",
      "Epoch 58/100\n",
      "\u001b[1m5/5\u001b[0m \u001b[32m━━━━━━━━━━━━━━━━━━━━\u001b[0m\u001b[37m\u001b[0m \u001b[1m0s\u001b[0m 3ms/step - accuracy: 0.3194 - loss: 2.5169 \n",
      "Epoch 59/100\n",
      "\u001b[1m5/5\u001b[0m \u001b[32m━━━━━━━━━━━━━━━━━━━━\u001b[0m\u001b[37m\u001b[0m \u001b[1m0s\u001b[0m 3ms/step - accuracy: 0.2921 - loss: 2.5260 \n",
      "Epoch 60/100\n",
      "\u001b[1m5/5\u001b[0m \u001b[32m━━━━━━━━━━━━━━━━━━━━\u001b[0m\u001b[37m\u001b[0m \u001b[1m0s\u001b[0m 3ms/step - accuracy: 0.2639 - loss: 2.5233 \n",
      "Epoch 61/100\n",
      "\u001b[1m5/5\u001b[0m \u001b[32m━━━━━━━━━━━━━━━━━━━━\u001b[0m\u001b[37m\u001b[0m \u001b[1m0s\u001b[0m 3ms/step - accuracy: 0.2934 - loss: 2.5293 \n",
      "Epoch 62/100\n",
      "\u001b[1m5/5\u001b[0m \u001b[32m━━━━━━━━━━━━━━━━━━━━\u001b[0m\u001b[37m\u001b[0m \u001b[1m0s\u001b[0m 3ms/step - accuracy: 0.2556 - loss: 2.5435 \n",
      "Epoch 63/100\n",
      "\u001b[1m5/5\u001b[0m \u001b[32m━━━━━━━━━━━━━━━━━━━━\u001b[0m\u001b[37m\u001b[0m \u001b[1m0s\u001b[0m 3ms/step - accuracy: 0.2673 - loss: 2.5211 \n",
      "Epoch 64/100\n",
      "\u001b[1m5/5\u001b[0m \u001b[32m━━━━━━━━━━━━━━━━━━━━\u001b[0m\u001b[37m\u001b[0m \u001b[1m0s\u001b[0m 3ms/step - accuracy: 0.3047 - loss: 2.5012 \n",
      "Epoch 65/100\n",
      "\u001b[1m5/5\u001b[0m \u001b[32m━━━━━━━━━━━━━━━━━━━━\u001b[0m\u001b[37m\u001b[0m \u001b[1m0s\u001b[0m 3ms/step - accuracy: 0.2508 - loss: 2.5141 \n",
      "Epoch 66/100\n",
      "\u001b[1m5/5\u001b[0m \u001b[32m━━━━━━━━━━━━━━━━━━━━\u001b[0m\u001b[37m\u001b[0m \u001b[1m0s\u001b[0m 3ms/step - accuracy: 0.2652 - loss: 2.5158 \n",
      "Epoch 67/100\n",
      "\u001b[1m5/5\u001b[0m \u001b[32m━━━━━━━━━━━━━━━━━━━━\u001b[0m\u001b[37m\u001b[0m \u001b[1m0s\u001b[0m 3ms/step - accuracy: 0.2691 - loss: 2.5093 \n",
      "Epoch 68/100\n",
      "\u001b[1m5/5\u001b[0m \u001b[32m━━━━━━━━━━━━━━━━━━━━\u001b[0m\u001b[37m\u001b[0m \u001b[1m0s\u001b[0m 3ms/step - accuracy: 0.3021 - loss: 2.4772 \n",
      "Epoch 69/100\n",
      "\u001b[1m5/5\u001b[0m \u001b[32m━━━━━━━━━━━━━━━━━━━━\u001b[0m\u001b[37m\u001b[0m \u001b[1m0s\u001b[0m 3ms/step - accuracy: 0.2317 - loss: 2.5183 \n",
      "Epoch 70/100\n",
      "\u001b[1m5/5\u001b[0m \u001b[32m━━━━━━━━━━━━━━━━━━━━\u001b[0m\u001b[37m\u001b[0m \u001b[1m0s\u001b[0m 3ms/step - accuracy: 0.2860 - loss: 2.4849 \n",
      "Epoch 71/100\n",
      "\u001b[1m5/5\u001b[0m \u001b[32m━━━━━━━━━━━━━━━━━━━━\u001b[0m\u001b[37m\u001b[0m \u001b[1m0s\u001b[0m 3ms/step - accuracy: 0.2760 - loss: 2.5077 \n",
      "Epoch 72/100\n",
      "\u001b[1m5/5\u001b[0m \u001b[32m━━━━━━━━━━━━━━━━━━━━\u001b[0m\u001b[37m\u001b[0m \u001b[1m0s\u001b[0m 3ms/step - accuracy: 0.2734 - loss: 2.4916 \n",
      "Epoch 73/100\n",
      "\u001b[1m5/5\u001b[0m \u001b[32m━━━━━━━━━━━━━━━━━━━━\u001b[0m\u001b[37m\u001b[0m \u001b[1m0s\u001b[0m 3ms/step - accuracy: 0.2808 - loss: 2.4993 \n",
      "Epoch 74/100\n",
      "\u001b[1m5/5\u001b[0m \u001b[32m━━━━━━━━━━━━━━━━━━━━\u001b[0m\u001b[37m\u001b[0m \u001b[1m0s\u001b[0m 3ms/step - accuracy: 0.2921 - loss: 2.4416 \n",
      "Epoch 75/100\n",
      "\u001b[1m5/5\u001b[0m \u001b[32m━━━━━━━━━━━━━━━━━━━━\u001b[0m\u001b[37m\u001b[0m \u001b[1m0s\u001b[0m 3ms/step - accuracy: 0.2799 - loss: 2.4580 \n",
      "Epoch 76/100\n",
      "\u001b[1m5/5\u001b[0m \u001b[32m━━━━━━━━━━━━━━━━━━━━\u001b[0m\u001b[37m\u001b[0m \u001b[1m0s\u001b[0m 3ms/step - accuracy: 0.2895 - loss: 2.4490 \n",
      "Epoch 77/100\n",
      "\u001b[1m5/5\u001b[0m \u001b[32m━━━━━━━━━━━━━━━━━━━━\u001b[0m\u001b[37m\u001b[0m \u001b[1m0s\u001b[0m 3ms/step - accuracy: 0.2912 - loss: 2.4561 \n",
      "Epoch 78/100\n",
      "\u001b[1m5/5\u001b[0m \u001b[32m━━━━━━━━━━━━━━━━━━━━\u001b[0m\u001b[37m\u001b[0m \u001b[1m0s\u001b[0m 3ms/step - accuracy: 0.2929 - loss: 2.4505 \n",
      "Epoch 79/100\n",
      "\u001b[1m5/5\u001b[0m \u001b[32m━━━━━━━━━━━━━━━━━━━━\u001b[0m\u001b[37m\u001b[0m \u001b[1m0s\u001b[0m 3ms/step - accuracy: 0.2699 - loss: 2.4879 \n",
      "Epoch 80/100\n",
      "\u001b[1m5/5\u001b[0m \u001b[32m━━━━━━━━━━━━━━━━━━━━\u001b[0m\u001b[37m\u001b[0m \u001b[1m0s\u001b[0m 3ms/step - accuracy: 0.2912 - loss: 2.4325 \n",
      "Epoch 81/100\n",
      "\u001b[1m5/5\u001b[0m \u001b[32m━━━━━━━━━━━━━━━━━━━━\u001b[0m\u001b[37m\u001b[0m \u001b[1m0s\u001b[0m 3ms/step - accuracy: 0.2955 - loss: 2.4486 \n",
      "Epoch 82/100\n",
      "\u001b[1m5/5\u001b[0m \u001b[32m━━━━━━━━━━━━━━━━━━━━\u001b[0m\u001b[37m\u001b[0m \u001b[1m0s\u001b[0m 3ms/step - accuracy: 0.2639 - loss: 2.4454 \n",
      "Epoch 83/100\n",
      "\u001b[1m5/5\u001b[0m \u001b[32m━━━━━━━━━━━━━━━━━━━━\u001b[0m\u001b[37m\u001b[0m \u001b[1m0s\u001b[0m 3ms/step - accuracy: 0.2860 - loss: 2.4460 \n",
      "Epoch 84/100\n",
      "\u001b[1m5/5\u001b[0m \u001b[32m━━━━━━━━━━━━━━━━━━━━\u001b[0m\u001b[37m\u001b[0m \u001b[1m0s\u001b[0m 3ms/step - accuracy: 0.2721 - loss: 2.4410 \n",
      "Epoch 85/100\n",
      "\u001b[1m5/5\u001b[0m \u001b[32m━━━━━━━━━━━━━━━━━━━━\u001b[0m\u001b[37m\u001b[0m \u001b[1m0s\u001b[0m 3ms/step - accuracy: 0.2669 - loss: 2.4562 \n",
      "Epoch 86/100\n",
      "\u001b[1m5/5\u001b[0m \u001b[32m━━━━━━━━━━━━━━━━━━━━\u001b[0m\u001b[37m\u001b[0m \u001b[1m0s\u001b[0m 3ms/step - accuracy: 0.3034 - loss: 2.4028 \n",
      "Epoch 87/100\n",
      "\u001b[1m5/5\u001b[0m \u001b[32m━━━━━━━━━━━━━━━━━━━━\u001b[0m\u001b[37m\u001b[0m \u001b[1m0s\u001b[0m 3ms/step - accuracy: 0.2665 - loss: 2.4731 \n",
      "Epoch 88/100\n",
      "\u001b[1m5/5\u001b[0m \u001b[32m━━━━━━━━━━━━━━━━━━━━\u001b[0m\u001b[37m\u001b[0m \u001b[1m0s\u001b[0m 3ms/step - accuracy: 0.2738 - loss: 2.4303 \n",
      "Epoch 89/100\n",
      "\u001b[1m5/5\u001b[0m \u001b[32m━━━━━━━━━━━━━━━━━━━━\u001b[0m\u001b[37m\u001b[0m \u001b[1m0s\u001b[0m 3ms/step - accuracy: 0.2348 - loss: 2.4505 \n",
      "Epoch 90/100\n",
      "\u001b[1m5/5\u001b[0m \u001b[32m━━━━━━━━━━━━━━━━━━━━\u001b[0m\u001b[37m\u001b[0m \u001b[1m0s\u001b[0m 3ms/step - accuracy: 0.2942 - loss: 2.4163 \n",
      "Epoch 91/100\n",
      "\u001b[1m5/5\u001b[0m \u001b[32m━━━━━━━━━━━━━━━━━━━━\u001b[0m\u001b[37m\u001b[0m \u001b[1m0s\u001b[0m 2ms/step - accuracy: 0.2669 - loss: 2.4184 \n",
      "Epoch 92/100\n",
      "\u001b[1m5/5\u001b[0m \u001b[32m━━━━━━━━━━━━━━━━━━━━\u001b[0m\u001b[37m\u001b[0m \u001b[1m0s\u001b[0m 3ms/step - accuracy: 0.2396 - loss: 2.4509 \n",
      "Epoch 93/100\n",
      "\u001b[1m5/5\u001b[0m \u001b[32m━━━━━━━━━━━━━━━━━━━━\u001b[0m\u001b[37m\u001b[0m \u001b[1m0s\u001b[0m 3ms/step - accuracy: 0.2500 - loss: 2.4121 \n",
      "Epoch 94/100\n",
      "\u001b[1m5/5\u001b[0m \u001b[32m━━━━━━━━━━━━━━━━━━━━\u001b[0m\u001b[37m\u001b[0m \u001b[1m0s\u001b[0m 3ms/step - accuracy: 0.2821 - loss: 2.4193 \n",
      "Epoch 95/100\n",
      "\u001b[1m5/5\u001b[0m \u001b[32m━━━━━━━━━━━━━━━━━━━━\u001b[0m\u001b[37m\u001b[0m \u001b[1m0s\u001b[0m 3ms/step - accuracy: 0.2652 - loss: 2.4191 \n",
      "Epoch 96/100\n",
      "\u001b[1m5/5\u001b[0m \u001b[32m━━━━━━━━━━━━━━━━━━━━\u001b[0m\u001b[37m\u001b[0m \u001b[1m0s\u001b[0m 3ms/step - accuracy: 0.2454 - loss: 2.4411 \n",
      "Epoch 97/100\n",
      "\u001b[1m5/5\u001b[0m \u001b[32m━━━━━━━━━━━━━━━━━━━━\u001b[0m\u001b[37m\u001b[0m \u001b[1m0s\u001b[0m 3ms/step - accuracy: 0.2780 - loss: 2.4251 \n",
      "Epoch 98/100\n",
      "\u001b[1m5/5\u001b[0m \u001b[32m━━━━━━━━━━━━━━━━━━━━\u001b[0m\u001b[37m\u001b[0m \u001b[1m0s\u001b[0m 3ms/step - accuracy: 0.2945 - loss: 2.3722 \n",
      "Epoch 99/100\n",
      "\u001b[1m5/5\u001b[0m \u001b[32m━━━━━━━━━━━━━━━━━━━━\u001b[0m\u001b[37m\u001b[0m \u001b[1m0s\u001b[0m 2ms/step - accuracy: 0.2997 - loss: 2.3895 \n",
      "Epoch 100/100\n",
      "\u001b[1m5/5\u001b[0m \u001b[32m━━━━━━━━━━━━━━━━━━━━\u001b[0m\u001b[37m\u001b[0m \u001b[1m0s\u001b[0m 3ms/step - accuracy: 0.3188 - loss: 2.3640 \n"
     ]
    }
   ],
   "source": [
    "# history=model.fit(X, Y, epochs=10000)  # trenowanie modelu\n",
    "history=model.fit(X, Y, epochs=100)  # trenowanie modelu"
   ]
  },
  {
   "cell_type": "code",
   "execution_count": 22,
   "metadata": {},
   "outputs": [
    {
     "data": {
      "image/png": "[encoded data removed]",
      "text/plain": [
       "<Figure size 640x480 with 1 Axes>"
      ]
     },
     "metadata": {},
     "output_type": "display_data"
    }
   ],
   "source": [
    "import matplotlib.pyplot as plt\n",
    "\n",
    "# Sprawdzenie, czy 'loss' jest dostępny w historii\n",
    "if 'loss' in history.history:\n",
    "    plt.plot(history.history['loss'])\n",
    "    plt.title('Loss over epochs')\n",
    "    plt.xlabel('Epochs')\n",
    "    plt.ylabel('Loss')\n",
    "    plt.show()\n",
    "else:\n",
    "    print(\"No loss data available.\")\n"
   ]
  },
  {
   "cell_type": "code",
   "execution_count": 23,
   "metadata": {},
   "outputs": [
    {
     "data": {
      "text/plain": [
       "[<matplotlib.lines.Line2D at 0x23da3aab4d0>]"
      ]
     },
     "execution_count": 23,
     "metadata": {},
     "output_type": "execute_result"
    },
    {
     "data": {
      "image/png": "[encoded data removed]",
      "text/plain": [
       "<Figure size 640x480 with 1 Axes>"
      ]
     },
     "metadata": {},
     "output_type": "display_data"
    }
   ],
   "source": [
    "import matplotlib.pyplot as plt\n",
    "\n",
    "plt.plot(history.history['loss'])"
   ]
  },
  {
   "cell_type": "code",
   "execution_count": 24,
   "metadata": {},
   "outputs": [
    {
     "data": {
      "text/plain": [
       "array([[1., 0., 0., 0., 0., 0., 0., 0., 0., 0., 0., 0., 0., 0., 0., 0.],\n",
       "       [0., 1., 0., 0., 0., 0., 0., 0., 0., 0., 0., 0., 0., 0., 0., 0.],\n",
       "       [0., 0., 1., 0., 0., 0., 0., 0., 0., 0., 0., 0., 0., 0., 0., 0.],\n",
       "       [0., 0., 0., 1., 0., 0., 0., 0., 0., 0., 0., 0., 0., 0., 0., 0.],\n",
       "       [0., 0., 0., 0., 1., 0., 0., 0., 0., 0., 0., 0., 0., 0., 0., 0.],\n",
       "       [0., 0., 0., 0., 0., 1., 0., 0., 0., 0., 0., 0., 0., 0., 0., 0.],\n",
       "       [0., 0., 0., 0., 0., 0., 1., 0., 0., 0., 0., 0., 0., 0., 0., 0.],\n",
       "       [0., 0., 0., 0., 0., 0., 0., 1., 0., 0., 0., 0., 0., 0., 0., 0.],\n",
       "       [0., 0., 0., 0., 0., 0., 0., 0., 1., 0., 0., 0., 0., 0., 0., 0.],\n",
       "       [0., 0., 0., 0., 0., 0., 0., 0., 0., 1., 0., 0., 0., 0., 0., 0.],\n",
       "       [0., 0., 0., 0., 0., 0., 0., 0., 0., 0., 1., 0., 0., 0., 0., 0.],\n",
       "       [0., 0., 0., 0., 0., 0., 0., 0., 0., 0., 0., 1., 0., 0., 0., 0.],\n",
       "       [0., 0., 0., 0., 0., 0., 0., 0., 0., 0., 0., 0., 1., 0., 0., 0.],\n",
       "       [0., 0., 0., 0., 0., 0., 0., 0., 0., 0., 0., 0., 0., 1., 0., 0.],\n",
       "       [0., 0., 0., 0., 0., 0., 0., 0., 0., 0., 0., 0., 0., 0., 1., 0.],\n",
       "       [0., 0., 0., 0., 0., 0., 0., 0., 0., 0., 0., 0., 0., 0., 0., 1.]])"
      ]
     },
     "execution_count": 24,
     "metadata": {},
     "output_type": "execute_result"
    }
   ],
   "source": [
    "#chcialbym uzyskac reproezentajce kazdego slwoa z osobna\n",
    "slowa=np.zeros((len(words),len(words)))\n",
    "for idw ,w in enumerate(words):\n",
    "    slowa[idw][word2ind[w]] =1\n",
    "    \n",
    "slowa #koder słów\n"
   ]
  },
  {
   "cell_type": "code",
   "execution_count": 25,
   "metadata": {},
   "outputs": [],
   "source": [
    "encoder= Model(x, h)"
   ]
  },
  {
   "cell_type": "code",
   "execution_count": 26,
   "metadata": {},
   "outputs": [
    {
     "name": "stdout",
     "output_type": "stream",
     "text": [
      "\u001b[1m1/1\u001b[0m \u001b[32m━━━━━━━━━━━━━━━━━━━━\u001b[0m\u001b[37m\u001b[0m \u001b[1m0s\u001b[0m 69ms/step\n"
     ]
    }
   ],
   "source": [
    "slowa_h=encoder.predict(slowa) #to jest reprezentacja słów"
   ]
  },
  {
   "cell_type": "code",
   "execution_count": 27,
   "metadata": {},
   "outputs": [
    {
     "data": {
      "text/plain": [
       "array([[-0.03528923,  0.16768569],\n",
       "       [-1.3301723 ,  0.23474371],\n",
       "       [-0.56753397,  0.3654328 ],\n",
       "       [-0.8494619 , -0.05064359],\n",
       "       [-0.25131226, -0.22807129],\n",
       "       [-0.37689614,  0.14978626],\n",
       "       [-0.46435457, -0.43703365],\n",
       "       [-1.291013  ,  0.24863613],\n",
       "       [-0.54295003, -0.57579434],\n",
       "       [-0.75564265, -0.03416899],\n",
       "       [-0.72434795, -0.5842161 ],\n",
       "       [-1.3341343 , -0.13290784],\n",
       "       [-0.9952288 , -0.1714739 ],\n",
       "       [-0.6452235 ,  0.06888616],\n",
       "       [-0.9478215 , -0.78533465],\n",
       "       [-0.4507119 , -0.6943457 ]], dtype=float32)"
      ]
     },
     "execution_count": 27,
     "metadata": {},
     "output_type": "execute_result"
    }
   ],
   "source": [
    "slowa_h"
   ]
  },
  {
   "cell_type": "code",
   "execution_count": 32,
   "metadata": {},
   "outputs": [
    {
     "data": {
      "image/png": "[encoded data removed]",
      "text/plain": [
       "<Figure size 640x480 with 1 Axes>"
      ]
     },
     "metadata": {},
     "output_type": "display_data"
    }
   ],
   "source": [
    "import matplotlib.pyplot as plt\n",
    "\n",
    "# Corrected method name: subplots()\n",
    "fig, ax = plt.subplots()\n",
    "\n",
    "# Assuming `words` and `slowa_h` are already defined, with `slowa_h` being a 2D array or similar structure\n",
    "for w, x, y in zip(list(words), slowa_h[:, 0], slowa_h[:, 1]):\n",
    "    ax.annotate(w, (x, y))\n",
    "\n",
    "# Set the limits based on the data\n",
    "ax.set_xlim(slowa_h[:, 0].min() - 1, slowa_h[:, 0].max() + 1)\n",
    "ax.set_ylim(slowa_h[:, 1].min() - 1, slowa_h[:, 1].max() + 1)\n",
    "\n",
    "plt.show()\n"
   ]
  },
  {
   "cell_type": "markdown",
   "metadata": {},
   "source": [
    "NUMPY"
   ]
  },
  {
   "cell_type": "code",
   "execution_count": 1,
   "metadata": {},
   "outputs": [],
   "source": [
    "# jenym z najbarddziel kluczowych elementów w AI jest algorytm wstecznej propagacji błędów.\n",
    "# algorytm ten opeira się o metodę spatku gradientu, która polega na minimalizacji funkcji kosztu.\n",
    "# tą metodę musimy potrafić stosować do innych modeli jest to tak naprawde metoda składania gradneitu, ułątwia liczenie \n"
   ]
  },
  {
   "cell_type": "code",
   "execution_count": 41,
   "metadata": {},
   "outputs": [
    {
     "name": "stdout",
     "output_type": "stream",
     "text": [
      "0.0\n"
     ]
    },
    {
     "ename": "ValueError",
     "evalue": "cannot reshape array of size 2240 into shape (1,140)",
     "output_type": "error",
     "traceback": [
      "\u001b[1;31m---------------------------------------------------------------------------\u001b[0m",
      "\u001b[1;31mValueError\u001b[0m                                Traceback (most recent call last)",
      "Cell \u001b[1;32mIn[41], line 74\u001b[0m\n\u001b[0;32m     71\u001b[0m     Y[ids][word2ind[s[\u001b[38;5;241m1\u001b[39m]]]\u001b[38;5;241m=\u001b[39m\u001b[38;5;241m1\u001b[39m\n\u001b[0;32m     73\u001b[0m model \u001b[38;5;241m=\u001b[39m word2vec(d_in, \u001b[38;5;241m2\u001b[39m, lr)   \n\u001b[1;32m---> 74\u001b[0m \u001b[43mmodel\u001b[49m\u001b[38;5;241;43m.\u001b[39;49m\u001b[43mfit\u001b[49m\u001b[43m(\u001b[49m\u001b[43mX\u001b[49m\u001b[43m,\u001b[49m\u001b[43m \u001b[49m\u001b[43mY\u001b[49m\u001b[43m,\u001b[49m\u001b[43m \u001b[49m\u001b[43mepoch\u001b[49m\u001b[43m)\u001b[49m  \u001b[38;5;66;03m# trenowanie modelu\u001b[39;00m\n",
      "Cell \u001b[1;32mIn[41], line 58\u001b[0m, in \u001b[0;36mword2vec.fit\u001b[1;34m(self, X, Y, epochs)\u001b[0m\n\u001b[0;32m     56\u001b[0m    suma\u001b[38;5;241m=\u001b[39m\u001b[38;5;241m0\u001b[39m   \n\u001b[0;32m     57\u001b[0m    \u001b[38;5;28;01mfor\u001b[39;00m idx , (x,y) \u001b[38;5;129;01min\u001b[39;00m \u001b[38;5;28menumerate\u001b[39m(\u001b[38;5;28mzip\u001b[39m(X,Y)):\n\u001b[1;32m---> 58\u001b[0m        suma\u001b[38;5;241m+\u001b[39m\u001b[38;5;241m=\u001b[39m\u001b[38;5;28;43mself\u001b[39;49m\u001b[38;5;241;43m.\u001b[39;49m\u001b[43mbackward\u001b[49m\u001b[43m(\u001b[49m\u001b[43mx\u001b[49m\u001b[43m,\u001b[49m\u001b[43my\u001b[49m\u001b[43m)\u001b[49m\n\u001b[0;32m     60\u001b[0m    history\u001b[38;5;241m.\u001b[39mappend(suma\u001b[38;5;241m/\u001b[39midx)\n\u001b[0;32m     61\u001b[0m \u001b[38;5;28;01mreturn\u001b[39;00m history\n",
      "Cell \u001b[1;32mIn[41], line 44\u001b[0m, in \u001b[0;36mword2vec.backward\u001b[1;34m(self, X, Y)\u001b[0m\n\u001b[0;32m     42\u001b[0m res\u001b[38;5;241m=\u001b[39m \u001b[38;5;28mself\u001b[39m\u001b[38;5;241m.\u001b[39mpredict(X)\n\u001b[0;32m     43\u001b[0m b1 \u001b[38;5;241m=\u001b[39m res[\u001b[38;5;241m2\u001b[39m]\u001b[38;5;241m-\u001b[39mY\n\u001b[1;32m---> 44\u001b[0m h1b1\u001b[38;5;241m=\u001b[39m np\u001b[38;5;241m.\u001b[39mmatmul(res[\u001b[38;5;241m0\u001b[39m]\u001b[38;5;241m.\u001b[39mreshape(\u001b[38;5;28mself\u001b[39m\u001b[38;5;241m.\u001b[39mV\u001b[38;5;241m.\u001b[39mshape[\u001b[38;5;241m0\u001b[39m],\u001b[38;5;241m1\u001b[39m),\u001b[43mb1\u001b[49m\u001b[38;5;241;43m.\u001b[39;49m\u001b[43mreshape\u001b[49m\u001b[43m(\u001b[49m\u001b[38;5;241;43m1\u001b[39;49m\u001b[43m,\u001b[49m\u001b[38;5;28;43mlen\u001b[39;49m\u001b[43m(\u001b[49m\u001b[43mb1\u001b[49m\u001b[43m)\u001b[49m\u001b[43m)\u001b[49m)\n\u001b[0;32m     45\u001b[0m b0\u001b[38;5;241m=\u001b[39m np\u001b[38;5;241m.\u001b[39mmatmul(b1,\u001b[38;5;28mself\u001b[39m\u001b[38;5;241m.\u001b[39mV\u001b[38;5;241m.\u001b[39mT)\n\u001b[0;32m     46\u001b[0m Xb0\u001b[38;5;241m=\u001b[39m np\u001b[38;5;241m.\u001b[39mmatmul(X\u001b[38;5;241m.\u001b[39mreshape(\u001b[38;5;28mlen\u001b[39m(X),\u001b[38;5;241m1\u001b[39m),b0\u001b[38;5;241m.\u001b[39mreshape(\u001b[38;5;241m1\u001b[39m,\u001b[38;5;28mself\u001b[39m\u001b[38;5;241m.\u001b[39mV\u001b[38;5;241m.\u001b[39mshape[\u001b[38;5;241m0\u001b[39m]))\n",
      "\u001b[1;31mValueError\u001b[0m: cannot reshape array of size 2240 into shape (1,140)"
     ]
    }
   ],
   "source": [
    "class word2vec:\n",
    "    def __init__(self,d_in,h_factor,lr=0.01): #d_in to długość wektora wejściowego a h_factor to długość wektora ukrytego\n",
    "        self.W=np.random.random((d_in,h_factor)) #wagi wejściowe\n",
    "        self.V=np.random.random((h_factor,d_in)) #wagi wyjściowe\n",
    "        self.l_r=lr #learning rate\n",
    "        \n",
    "    def softmax(self,x):\n",
    "        out=np.exp(X)\n",
    "        return out/ sum(out)\n",
    "        \n",
    "    def predict(self,X):\n",
    "        step1 = np.matmul(X,self.W) #przesyłamy dane przez warstwę ukrytą\n",
    "        step2 = np.matmul(step1,self.V) #przesyłamy dane przez warstwę wyjściową\n",
    "        #na wyjsciu chcemy uzyskać prawdopodobieństwo daltego przesyłane jest do softmax\n",
    "        step3 = self.softmax(step2) #przesyłamy dane przez softmax\n",
    "        return [step1, step2, step3]\n",
    "    \n",
    "    #takie sieci są uczone często za pomoca entropii krzyzowej l(y,yhat)=-sum(y*log(yhat))\n",
    "    \n",
    "    def cross_entropy(self,y,yh):\n",
    "        return -sum(y*np.log(yh))\n",
    "    \n",
    "    #uczenie sieci za pomoca metody wstecznej propagacji błędó czyli trzeba obliczyć gradienty np. vji= vji- pochodna funkcji straty po vji\n",
    "    #więc tą pochodną funkcji straty musimy policzyć funkcja ma y z daszkiem więc dl/dlvji= dl/dyi*dyi/dvji ale uwaga\n",
    "    #każde to yi zależy od neuronu więc nie wystarczy zrobić to dla jednego neuronu ale dla wszystkich więc trzeba zastosować sume\n",
    "    #dl/dvji= sum(dl/dyi*dyi/dvji) i finalnie mamy suma dl/dyhatm*dxyhatm/dSm*dsm/dvji trzeba obliczyć te trzy skłądniki\n",
    "    # sm= suma hj vjm-> dsm/dvji= 0 jeśli i !=i jeżeli m=i to dsm/dvji= hj\n",
    "    #dl/dyhatm=dlymln(yhatm)/dyhatm= ym 1/yhatm\n",
    "    #dyhatm/dsi= jeżeli m!=i to (-edosm * esi)/(suma edo sj )^2 = -yhatm * yhai = jeżeli m=i to yhatm(1-yhatm)\n",
    "    #czyli teraz możemy podstawić sobie te wartości i obliczyć pochodną funkcji straty po vji\n",
    "    #suma od m=1 do k =ym 1/ymhat * (-ym yi)*dsm/dvji - yi 1/yhat i  yhati (1-yhati)* dsm/dvji\n",
    "    #skracamy i wychodzi = suma od m=1 do k ym * yihat * dsm/dvji - yi * + yi dsm/dvji\n",
    "    #= (suma od m=1 do k = ym yihat - yi)*dsm/dvji\n",
    "    #= (yihat suma od m=1 do k = ym - yi)*dsm/dvji\n",
    "    # jest to suma wszystkich wyjść softmax zatem liczniki staną się mianownikam czyli sumuje się do 1\n",
    "    #=(yihat-yi)*dsm/dvji\n",
    "    #=(yhati-yi)*hj czyli różnia między predykcją a prawdziwą wartością pomnożona przez wartość warstwy ukrytej\n",
    "    #dl/dwij= sprawa ma się analogicznie \n",
    "    \n",
    "    \n",
    "    def backward(self,X,Y):\n",
    "        res= self.predict(X)\n",
    "        b1 = res[2]-Y\n",
    "        h1b1= np.matmul(res[0].reshape(self.V.shape[0],1),b1.reshape(1,len(b1)))\n",
    "        b0= np.matmul(b1,self.V.T)\n",
    "        Xb0= np.matmul(X.reshape(len(X),1),b0.reshape(1,self.V.shape[0]))\n",
    "        self.W-= self.l_r * Xb0\n",
    "        self.V-=self.l_r* h1b1\n",
    "        return self.cross_entropy(Y,res[2])\n",
    "\n",
    "    \n",
    "    def fit (self,X,Y,epochs):\n",
    "        history=[]\n",
    "        for nr in range(epochs):\n",
    "           print(nr/epochs)\n",
    "           suma=0   \n",
    "           for idx , (x,y) in enumerate(zip(X,Y)):\n",
    "               suma+=self.backward(x,y)\n",
    "               \n",
    "           history.append(suma/idx)\n",
    "        return history\n",
    "        \n",
    "    \n",
    "epoch=200\n",
    "lr=0.01\n",
    "d_in=len(words)\n",
    "X=np.zeros((len(dane),len(words)),dtype=np.float16)\n",
    "Y=np.zeros((len(dane),len(words)),dtype=np.float16)\n",
    "for ids,s in enumerate(dane):\n",
    "    X[ids][word2ind[s[0]]]=1\n",
    "    Y[ids][word2ind[s[1]]]=1\n",
    "\n",
    "model = word2vec(d_in, 2, lr)   \n",
    "model.fit(X, Y, epoch)  # trenowanie modelu"
   ]
  },
  {
   "cell_type": "code",
   "execution_count": null,
   "metadata": {},
   "outputs": [],
   "source": []
  }
 ],
 "metadata": {
  "kernelspec": {
   "display_name": "Python 3",
   "language": "python",
   "name": "python3"
  },
  "language_info": {
   "codemirror_mode": {
    "name": "ipython",
    "version": 3
   },
   "file_extension": ".py",
   "mimetype": "text/x-python",
   "name": "python",
   "nbconvert_exporter": "python",
   "pygments_lexer": "ipython3",
   "version": "3.12.2"
  }
 },
 "nbformat": 4,
 "nbformat_minor": 2
}
