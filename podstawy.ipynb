{
 "cells": [
  {
   "cell_type": "code",
   "execution_count": 1,
   "metadata": {},
   "outputs": [],
   "source": [
    "import tensorflow as tf\n",
    "import numpy as np\n",
    "#Tensorflow udostępnia nowe typy zmiennych.\n",
    "#Tf.Tensor reprezentuje wielowymiarową tablicę elementów."
   ]
  },
  {
   "cell_type": "code",
   "execution_count": 23,
   "metadata": {},
   "outputs": [
    {
     "name": "stdout",
     "output_type": "stream",
     "text": [
      "<dtype: 'float32'>\n",
      "<dtype: 'int32'>\n",
      "<dtype: 'float32'>\n"
     ]
    },
    {
     "data": {
      "text/plain": [
       "tensorflow.python.framework.ops.EagerTensor"
      ]
     },
     "execution_count": 23,
     "metadata": {},
     "output_type": "execute_result"
    }
   ],
   "source": [
    "#Utwórzmy tensor z wartościami typu float\n",
    "tens = tf.constant([[1.0, 2.0], [3.0, 4.0]])\n",
    "\n",
    "print(tens.dtype)\n",
    "#A teraz utwórzmy tensor z wartościami int\n",
    "tens_int = tf.constant([[1, 2], [3, 4]])\n",
    "print(tens_int.dtype)\n",
    "\n",
    "#Jak widać, konstruktor automatycznie wybiera typ danych.\n",
    "#Jeśli chcemy mieć pewność, że dany typ będzie miał zastosowanie, musimy zdefiniować (podobnie jak w NumPy) argument dtype.\n",
    "tens_float32 = tf.constant([[1, 2], [3, 4]], dtype=tf.float32)\n",
    "print(tens_float32.dtype)\n",
    "\n",
    "#Warto wspomnieć, że typem tej zmiennej jest EagerTensor\n",
    "type(tens) \n"
   ]
  },
  {
   "cell_type": "code",
   "execution_count": 30,
   "metadata": {},
   "outputs": [
    {
     "name": "stdout",
     "output_type": "stream",
     "text": [
      "tf.Tensor(\n",
      "[[1. 2.]\n",
      " [3. 4.]], shape=(2, 2), dtype=float32)\n",
      "[[1. 2.]\n",
      " [3. 4.]]\n"
     ]
    },
    {
     "data": {
      "text/plain": [
       "numpy.ndarray"
      ]
     },
     "execution_count": 30,
     "metadata": {},
     "output_type": "execute_result"
    }
   ],
   "source": [
    "#Zmienna przechowuje nie tylko wartości, ale także niektóre metadane\n",
    "print(tens)\n",
    "\n",
    "#Jeśli chcemy odwołać się do czystych wartości, możemy użyć metody numpy.\n",
    "print(tens.numpy())\n",
    "type(tens.numpy())\n"
   ]
  },
  {
   "cell_type": "code",
   "execution_count": 10,
   "metadata": {},
   "outputs": [
    {
     "data": {
      "text/plain": [
       "<tf.Tensor: shape=(2, 2), dtype=float32, numpy=\n",
       "array([[ 1.,  4.],\n",
       "       [25., 36.]], dtype=float32)>"
      ]
     },
     "execution_count": 10,
     "metadata": {},
     "output_type": "execute_result"
    }
   ],
   "source": [
    "#W podanym przykładzie użyliśmy funkcji tf.constant do utworzenia tensora. W rzeczywistości pakiet tensorflow daje nam więcej opcji.\n",
    "#tf.Variable vs tf.constant\n",
    "tens = tf.Variable([[1.0, 2.0], [3.0, 4.0]])\n",
    "#tf.Variable jest podobne do tf.constant. Główną różnicą jest to, że tf.constant jest niezmienne (jego wartości nie można zmienić. Jeśli chcesz zmienić jego wartości, musisz zastąpić cały obiekt).\n",
    "#Warto również wspomnieć, że nie można zmieniać wartości, jak w obiektach typu ndarray.\n",
    "#Próba wykonania tens[0][0] = 2 lub tens.numpy()[0][0] spowoduje błąd.\n",
    "#Aby zastąpić każdą wartość, możemy użyć funkcji assign\n",
    "tens.assign([[-1,-2], [5,6]])\n",
    "#Jeśli chcemy dodać dwa tensory możemy użyć assign_add\n",
    "tens.assign_add([[1,2], [5,6]])\n",
    "#a jeśli chcemy je odjąć, możemy użyć assign_sub\n",
    "tens.assign_sub([[1,2], [5,6]])\n",
    "\n",
    "#Aby pomnożyć tensory używamy matmul\n",
    "tf.matmul(tens, tens)\n",
    "\n",
    "#Mnożenie element z elementem można wykonać za pomocą\n",
    "tf.multiply(tens, tens)"
   ]
  },
  {
   "cell_type": "code",
   "execution_count": 21,
   "metadata": {},
   "outputs": [
    {
     "data": {
      "text/plain": [
       "<tf.Tensor: shape=(4, 2), dtype=int64, numpy=\n",
       "array([[0, 0],\n",
       "       [0, 1],\n",
       "       [1, 0],\n",
       "       [1, 1]], dtype=int64)>"
      ]
     },
     "execution_count": 21,
     "metadata": {},
     "output_type": "execute_result"
    }
   ],
   "source": [
    "#Aby zmienić tylko wybrane części oryginalnego tensora, możemy zastosować funkcję „where”. Ta funkcja przyjmuje trzy argumenty:\n",
    "#condtion: obiekt podobny do tensora, który\n",
    "#x: tensor, którego wartości są używane, jeśli parametr warunku ma wartość różną od zera (True)\n",
    "#y: tensor, którego wartości są używane, jeśli parametr warunku ma wartość zerową (False)\n",
    "\n",
    "#Jeśli chcemy zmienić wartość w drugiej kolumnie naszego tensora na 0, możemy wykonać następujące kroki:\n",
    "#Utwórz tablicę True\n",
    "condition = np.repeat(True, tens.numpy().size).reshape(tens.shape)\n",
    "#Umieść wartość Flase w drugiej kolumnie\n",
    "condition[:, 1] = False\n",
    "#Funkcja „where” zwraca nowy Tensor z oczekiwanymi wartościami\n",
    "tens2 = tf.where(condition, tens, 0)\n",
    "\n",
    "#Zamiast tworzyć własną macierz warunków, możemy zastosować przydatną funkcję, która zwraca tensor o wartościach logicznych\n",
    "    #tf.math.less\n",
    "    #tf.math.greater\n",
    "    #tf.math.less_equal\n",
    "    #tf.math.greater_equal\n",
    "    #tf.math.is_nan\n",
    "\n",
    "\n",
    "#Funkcja 'where' może być również używana do uzyskiwania indeksów elementów niezerowych w tensorze.\n",
    "#Porównaj\n",
    "tf.where(tens2)\n",
    "#z\n",
    "tf.where(tens)\n"
   ]
  },
  {
   "cell_type": "code",
   "execution_count": 27,
   "metadata": {},
   "outputs": [
    {
     "data": {
      "text/plain": [
       "<tf.Tensor: shape=(1, 2), dtype=float32, numpy=array([[3., 4.]], dtype=float32)>"
      ]
     },
     "execution_count": 27,
     "metadata": {},
     "output_type": "execute_result"
    }
   ],
   "source": [
    "#Aby wyciąć część tensora, możemy również użyć funkcji gather, która przyjmuje 3 parametry:\n",
    "#tens: tensor do wycięcia\n",
    "#indices: lista elementów, które mają utworzyć dziesiątki\n",
    "#axis: oś, z której chcemy wyciąć\n",
    "#Pierwsza kolumna\n",
    "tf.gather(tens, [0], axis=1)\n",
    "#Druga kolumna\n",
    "tf.gather(tens, [1], axis=1)\n",
    "#Pierwszy rząd\n",
    "tf.gather(tens, [0], axis=0)\n",
    "#Drugi rząd\n",
    "tf.gather(tens, [1], axis=0)\n"
   ]
  },
  {
   "cell_type": "code",
   "execution_count": 31,
   "metadata": {},
   "outputs": [
    {
     "name": "stdout",
     "output_type": "stream",
     "text": [
      "tf.Tensor([1 2], shape=(2,), dtype=int32)\n"
     ]
    }
   ],
   "source": [
    "#Różne typy tensorów\n",
    "\n",
    "#tf.RaggedTensor to tensory, których wycinki mogą mieć różną długość.\n",
    "rt = tf.RaggedTensor.from_row_splits(values=[3, 1, 4, 1, 5, 9, 2, 6], row_splits=[0, 4, 4, 7, 8, 8])\n",
    "#tf.sparse.SparseTensor są używane dla tensora z wieloma zerami\n",
    "#Tle poniższe polecenie tworzy tensor złożony z zer, z wyjątkiem indeksów [0,0] i [5,0]. Wartości na tych pozycjach są podane przez parametr 'values'. Parametry 'dense_shape' definiują kształt tensora.\n",
    "st1 = tf.SparseTensor(indices=[[0, 0], [5, 0]],\n",
    "                      values=[1, 2],\n",
    "                      dense_shape=[10, 3])\n",
    "\n",
    "#Jeśli spróbujemy wydrukować jego wartość, otrzymamy tylko wartości różne od zera.\n",
    "print(st1.values)"
   ]
  },
  {
   "cell_type": "code",
   "execution_count": 33,
   "metadata": {},
   "outputs": [
    {
     "name": "stdout",
     "output_type": "stream",
     "text": [
      "tf.Tensor([10 20], shape=(2,), dtype=int32)\n",
      "tf.Tensor([ 1 12 20], shape=(3,), dtype=int32)\n"
     ]
    },
    {
     "data": {
      "text/plain": [
       "tensorflow.python.framework.ops.EagerTensor"
      ]
     },
     "execution_count": 33,
     "metadata": {},
     "output_type": "execute_result"
    }
   ],
   "source": [
    "#Teraz utwórzmy drugi tensor rzadki, z wartością różną od zera (jedną wspólną) pozycją [5,0] i (różną) pozycją [5,2].\n",
    "st2 = tf.SparseTensor(indices=[[5, 0], [5, 2]],\n",
    "                      values=[10, 20],\n",
    "                      dense_shape=[10, 3])\n",
    "print(st2.values)\n",
    "#Aby dodać te rzadkie tensory, musimy użyć specjalnej funkcji\n",
    "st_r = tf.sparse.add(st1, st2)\n",
    "\n",
    "#Jak widać, są trzy wartości różne od zera.\n",
    "print(st_r.values)\n",
    "\n",
    "#Możemy przekonwertować go na EagerTensor za pomocą funkcji sparse.to_dense().\n",
    "type(tf.sparse.to_dense(st_r))\n"
   ]
  },
  {
   "cell_type": "code",
   "execution_count": 40,
   "metadata": {},
   "outputs": [
    {
     "data": {
      "text/plain": [
       "TensorShape([1, 50, 2])"
      ]
     },
     "execution_count": 40,
     "metadata": {},
     "output_type": "execute_result"
    }
   ],
   "source": [
    "tf.newaxis # można użyć do dodania nowej osi do tablicy/tensora\n",
    "\n",
    "arr = np.arange(100).reshape((50,2)) #tablica 50 wierszy i 2 kolumn\n",
    "\n",
    "arr_expand_tf = arr[..., tf.newaxis] \n",
    "\n",
    "tf.reshape(arr_expand_tf, [1,50,2])\n",
    "\n",
    "\n",
    "arr_expand_tf.shape #3-osiowa tablica (tensor) z 50 wierszami, 2 kolumnami i 1 dodatkowym kanałem\n",
    "\n",
    "#To samo można zrobić za pomocą expand_dims\n",
    "\n",
    "tf.expand_dims(arr, axis=0).shape"
   ]
  },
  {
   "cell_type": "code",
   "execution_count": null,
   "metadata": {},
   "outputs": [],
   "source": []
  }
 ],
 "metadata": {
  "kernelspec": {
   "display_name": "Python 3",
   "language": "python",
   "name": "python3"
  },
  "language_info": {
   "codemirror_mode": {
    "name": "ipython",
    "version": 3
   },
   "file_extension": ".py",
   "mimetype": "text/x-python",
   "name": "python",
   "nbconvert_exporter": "python",
   "pygments_lexer": "ipython3",
   "version": "3.12.1"
  }
 },
 "nbformat": 4,
 "nbformat_minor": 2
}
